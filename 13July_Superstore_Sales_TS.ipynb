{
 "cells": [
  {
   "cell_type": "code",
   "execution_count": 3,
   "id": "0f4cb84e",
   "metadata": {},
   "outputs": [],
   "source": [
    "import pandas as pd\n",
    "import numpy as np\n",
    "import matplotlib.pyplot as plt"
   ]
  },
  {
   "cell_type": "code",
   "execution_count": 4,
   "id": "994737d0",
   "metadata": {},
   "outputs": [],
   "source": [
    "from sklearn.metrics import mean_squared_error\n",
    "\n",
    "from statsmodels.tsa.seasonal import seasonal_decompose\n",
    "from statsmodels.tsa.stattools import adfuller,kpss\n",
    "\n",
    "from statsmodels.graphics.tsaplots import plot_acf,plot_pacf\n",
    "from statsmodels.tsa.arima.model import ARIMA"
   ]
  },
  {
   "cell_type": "code",
   "execution_count": 51,
   "id": "a91f9ae2",
   "metadata": {},
   "outputs": [
    {
     "data": {
      "text/html": [
       "<div>\n",
       "<style scoped>\n",
       "    .dataframe tbody tr th:only-of-type {\n",
       "        vertical-align: middle;\n",
       "    }\n",
       "\n",
       "    .dataframe tbody tr th {\n",
       "        vertical-align: top;\n",
       "    }\n",
       "\n",
       "    .dataframe thead th {\n",
       "        text-align: right;\n",
       "    }\n",
       "</style>\n",
       "<table border=\"1\" class=\"dataframe\">\n",
       "  <thead>\n",
       "    <tr style=\"text-align: right;\">\n",
       "      <th></th>\n",
       "      <th>Row ID</th>\n",
       "      <th>Order ID</th>\n",
       "      <th>Order Date</th>\n",
       "      <th>Ship Date</th>\n",
       "      <th>Ship Mode</th>\n",
       "      <th>Customer ID</th>\n",
       "      <th>Customer Name</th>\n",
       "      <th>Segment</th>\n",
       "      <th>Country</th>\n",
       "      <th>City</th>\n",
       "      <th>...</th>\n",
       "      <th>Postal Code</th>\n",
       "      <th>Region</th>\n",
       "      <th>Product ID</th>\n",
       "      <th>Category</th>\n",
       "      <th>Sub-Category</th>\n",
       "      <th>Product Name</th>\n",
       "      <th>Sales</th>\n",
       "      <th>Quantity</th>\n",
       "      <th>Discount</th>\n",
       "      <th>Profit</th>\n",
       "    </tr>\n",
       "  </thead>\n",
       "  <tbody>\n",
       "    <tr>\n",
       "      <th>0</th>\n",
       "      <td>1</td>\n",
       "      <td>CA-2016-152156</td>\n",
       "      <td>11/8/2016</td>\n",
       "      <td>11/11/2016</td>\n",
       "      <td>Second Class</td>\n",
       "      <td>CG-12520</td>\n",
       "      <td>Claire Gute</td>\n",
       "      <td>Consumer</td>\n",
       "      <td>United States</td>\n",
       "      <td>Henderson</td>\n",
       "      <td>...</td>\n",
       "      <td>42420</td>\n",
       "      <td>South</td>\n",
       "      <td>FUR-BO-10001798</td>\n",
       "      <td>Furniture</td>\n",
       "      <td>Bookcases</td>\n",
       "      <td>Bush Somerset Collection Bookcase</td>\n",
       "      <td>261.96</td>\n",
       "      <td>2</td>\n",
       "      <td>0.0</td>\n",
       "      <td>41.9136</td>\n",
       "    </tr>\n",
       "    <tr>\n",
       "      <th>1</th>\n",
       "      <td>2</td>\n",
       "      <td>CA-2016-152156</td>\n",
       "      <td>11/8/2016</td>\n",
       "      <td>11/11/2016</td>\n",
       "      <td>Second Class</td>\n",
       "      <td>CG-12520</td>\n",
       "      <td>Claire Gute</td>\n",
       "      <td>Consumer</td>\n",
       "      <td>United States</td>\n",
       "      <td>Henderson</td>\n",
       "      <td>...</td>\n",
       "      <td>42420</td>\n",
       "      <td>South</td>\n",
       "      <td>FUR-CH-10000454</td>\n",
       "      <td>Furniture</td>\n",
       "      <td>Chairs</td>\n",
       "      <td>Hon Deluxe Fabric Upholstered Stacking Chairs,...</td>\n",
       "      <td>731.94</td>\n",
       "      <td>3</td>\n",
       "      <td>0.0</td>\n",
       "      <td>219.5820</td>\n",
       "    </tr>\n",
       "  </tbody>\n",
       "</table>\n",
       "<p>2 rows × 21 columns</p>\n",
       "</div>"
      ],
      "text/plain": [
       "   Row ID        Order ID Order Date   Ship Date     Ship Mode Customer ID  \\\n",
       "0       1  CA-2016-152156  11/8/2016  11/11/2016  Second Class    CG-12520   \n",
       "1       2  CA-2016-152156  11/8/2016  11/11/2016  Second Class    CG-12520   \n",
       "\n",
       "  Customer Name   Segment        Country       City  ... Postal Code  Region  \\\n",
       "0   Claire Gute  Consumer  United States  Henderson  ...       42420   South   \n",
       "1   Claire Gute  Consumer  United States  Henderson  ...       42420   South   \n",
       "\n",
       "        Product ID   Category Sub-Category  \\\n",
       "0  FUR-BO-10001798  Furniture    Bookcases   \n",
       "1  FUR-CH-10000454  Furniture       Chairs   \n",
       "\n",
       "                                        Product Name   Sales  Quantity  \\\n",
       "0                  Bush Somerset Collection Bookcase  261.96         2   \n",
       "1  Hon Deluxe Fabric Upholstered Stacking Chairs,...  731.94         3   \n",
       "\n",
       "   Discount    Profit  \n",
       "0       0.0   41.9136  \n",
       "1       0.0  219.5820  \n",
       "\n",
       "[2 rows x 21 columns]"
      ]
     },
     "execution_count": 51,
     "metadata": {},
     "output_type": "execute_result"
    }
   ],
   "source": [
    "df = pd.read_csv('super_store.csv')  # ,encoding = 'latin1')\n",
    "df.head(2)"
   ]
  },
  {
   "cell_type": "code",
   "execution_count": 52,
   "id": "56ae3140",
   "metadata": {},
   "outputs": [
    {
     "data": {
      "text/plain": [
       "(2121, 21)"
      ]
     },
     "execution_count": 52,
     "metadata": {},
     "output_type": "execute_result"
    }
   ],
   "source": [
    "df.shape"
   ]
  },
  {
   "cell_type": "code",
   "execution_count": 53,
   "id": "137188ff",
   "metadata": {},
   "outputs": [
    {
     "data": {
      "text/plain": [
       "Row ID           0\n",
       "Order ID         0\n",
       "Order Date       0\n",
       "Ship Date        0\n",
       "Ship Mode        0\n",
       "Customer ID      0\n",
       "Customer Name    0\n",
       "Segment          0\n",
       "Country          0\n",
       "City             0\n",
       "State            0\n",
       "Postal Code      0\n",
       "Region           0\n",
       "Product ID       0\n",
       "Category         0\n",
       "Sub-Category     0\n",
       "Product Name     0\n",
       "Sales            0\n",
       "Quantity         0\n",
       "Discount         0\n",
       "Profit           0\n",
       "dtype: int64"
      ]
     },
     "execution_count": 53,
     "metadata": {},
     "output_type": "execute_result"
    }
   ],
   "source": [
    "df.isnull().sum()"
   ]
  },
  {
   "cell_type": "code",
   "execution_count": 54,
   "id": "d9b070bc",
   "metadata": {},
   "outputs": [
    {
     "data": {
      "text/plain": [
       "Furniture    2121\n",
       "Name: Category, dtype: int64"
      ]
     },
     "execution_count": 54,
     "metadata": {},
     "output_type": "execute_result"
    }
   ],
   "source": [
    "df['Category'].value_counts()"
   ]
  },
  {
   "cell_type": "code",
   "execution_count": 55,
   "id": "3dea11ec",
   "metadata": {},
   "outputs": [
    {
     "data": {
      "text/html": [
       "<div>\n",
       "<style scoped>\n",
       "    .dataframe tbody tr th:only-of-type {\n",
       "        vertical-align: middle;\n",
       "    }\n",
       "\n",
       "    .dataframe tbody tr th {\n",
       "        vertical-align: top;\n",
       "    }\n",
       "\n",
       "    .dataframe thead th {\n",
       "        text-align: right;\n",
       "    }\n",
       "</style>\n",
       "<table border=\"1\" class=\"dataframe\">\n",
       "  <thead>\n",
       "    <tr style=\"text-align: right;\">\n",
       "      <th></th>\n",
       "      <th>Order Date</th>\n",
       "      <th>Sales</th>\n",
       "    </tr>\n",
       "  </thead>\n",
       "  <tbody>\n",
       "    <tr>\n",
       "      <th>0</th>\n",
       "      <td>11/8/2016</td>\n",
       "      <td>261.9600</td>\n",
       "    </tr>\n",
       "    <tr>\n",
       "      <th>1</th>\n",
       "      <td>11/8/2016</td>\n",
       "      <td>731.9400</td>\n",
       "    </tr>\n",
       "    <tr>\n",
       "      <th>2</th>\n",
       "      <td>10/11/2015</td>\n",
       "      <td>957.5775</td>\n",
       "    </tr>\n",
       "    <tr>\n",
       "      <th>3</th>\n",
       "      <td>6/9/2014</td>\n",
       "      <td>48.8600</td>\n",
       "    </tr>\n",
       "    <tr>\n",
       "      <th>4</th>\n",
       "      <td>6/9/2014</td>\n",
       "      <td>1706.1840</td>\n",
       "    </tr>\n",
       "  </tbody>\n",
       "</table>\n",
       "</div>"
      ],
      "text/plain": [
       "   Order Date      Sales\n",
       "0   11/8/2016   261.9600\n",
       "1   11/8/2016   731.9400\n",
       "2  10/11/2015   957.5775\n",
       "3    6/9/2014    48.8600\n",
       "4    6/9/2014  1706.1840"
      ]
     },
     "execution_count": 55,
     "metadata": {},
     "output_type": "execute_result"
    }
   ],
   "source": [
    "df1 = df[['Order Date','Sales']]\n",
    "df1.head()"
   ]
  },
  {
   "cell_type": "code",
   "execution_count": 56,
   "id": "7b992a5b",
   "metadata": {},
   "outputs": [
    {
     "data": {
      "text/plain": [
       "9/5/2016      10\n",
       "12/1/2016      9\n",
       "10/30/2017     9\n",
       "11/19/2017     9\n",
       "12/25/2016     9\n",
       "              ..\n",
       "3/25/2014      1\n",
       "5/20/2015      1\n",
       "8/25/2017      1\n",
       "1/26/2017      1\n",
       "6/14/2014      1\n",
       "Name: Order Date, Length: 889, dtype: int64"
      ]
     },
     "execution_count": 56,
     "metadata": {},
     "output_type": "execute_result"
    }
   ],
   "source": [
    "df1['Order Date'].value_counts()"
   ]
  },
  {
   "cell_type": "code",
   "execution_count": 57,
   "id": "c69f1361",
   "metadata": {},
   "outputs": [
    {
     "data": {
      "text/html": [
       "<div>\n",
       "<style scoped>\n",
       "    .dataframe tbody tr th:only-of-type {\n",
       "        vertical-align: middle;\n",
       "    }\n",
       "\n",
       "    .dataframe tbody tr th {\n",
       "        vertical-align: top;\n",
       "    }\n",
       "\n",
       "    .dataframe thead th {\n",
       "        text-align: right;\n",
       "    }\n",
       "</style>\n",
       "<table border=\"1\" class=\"dataframe\">\n",
       "  <thead>\n",
       "    <tr style=\"text-align: right;\">\n",
       "      <th></th>\n",
       "      <th>Order Date</th>\n",
       "      <th>Sales</th>\n",
       "    </tr>\n",
       "  </thead>\n",
       "  <tbody>\n",
       "    <tr>\n",
       "      <th>0</th>\n",
       "      <td>1/1/2017</td>\n",
       "      <td>243.872500</td>\n",
       "    </tr>\n",
       "    <tr>\n",
       "      <th>1</th>\n",
       "      <td>1/10/2014</td>\n",
       "      <td>51.940000</td>\n",
       "    </tr>\n",
       "    <tr>\n",
       "      <th>2</th>\n",
       "      <td>1/10/2015</td>\n",
       "      <td>1018.104000</td>\n",
       "    </tr>\n",
       "    <tr>\n",
       "      <th>3</th>\n",
       "      <td>1/10/2016</td>\n",
       "      <td>52.385000</td>\n",
       "    </tr>\n",
       "    <tr>\n",
       "      <th>4</th>\n",
       "      <td>1/11/2014</td>\n",
       "      <td>9.940000</td>\n",
       "    </tr>\n",
       "    <tr>\n",
       "      <th>...</th>\n",
       "      <td>...</td>\n",
       "      <td>...</td>\n",
       "    </tr>\n",
       "    <tr>\n",
       "      <th>884</th>\n",
       "      <td>9/8/2016</td>\n",
       "      <td>562.496933</td>\n",
       "    </tr>\n",
       "    <tr>\n",
       "      <th>885</th>\n",
       "      <td>9/8/2017</td>\n",
       "      <td>333.413000</td>\n",
       "    </tr>\n",
       "    <tr>\n",
       "      <th>886</th>\n",
       "      <td>9/9/2014</td>\n",
       "      <td>288.008000</td>\n",
       "    </tr>\n",
       "    <tr>\n",
       "      <th>887</th>\n",
       "      <td>9/9/2016</td>\n",
       "      <td>15.008000</td>\n",
       "    </tr>\n",
       "    <tr>\n",
       "      <th>888</th>\n",
       "      <td>9/9/2017</td>\n",
       "      <td>96.512800</td>\n",
       "    </tr>\n",
       "  </tbody>\n",
       "</table>\n",
       "<p>889 rows × 2 columns</p>\n",
       "</div>"
      ],
      "text/plain": [
       "    Order Date        Sales\n",
       "0     1/1/2017   243.872500\n",
       "1    1/10/2014    51.940000\n",
       "2    1/10/2015  1018.104000\n",
       "3    1/10/2016    52.385000\n",
       "4    1/11/2014     9.940000\n",
       "..         ...          ...\n",
       "884   9/8/2016   562.496933\n",
       "885   9/8/2017   333.413000\n",
       "886   9/9/2014   288.008000\n",
       "887   9/9/2016    15.008000\n",
       "888   9/9/2017    96.512800\n",
       "\n",
       "[889 rows x 2 columns]"
      ]
     },
     "execution_count": 57,
     "metadata": {},
     "output_type": "execute_result"
    }
   ],
   "source": [
    "df1 = df1.groupby(['Order Date'])['Sales'].mean().reset_index()\n",
    "df1"
   ]
  },
  {
   "cell_type": "code",
   "execution_count": 58,
   "id": "59eeb402",
   "metadata": {},
   "outputs": [
    {
     "data": {
      "text/plain": [
       "Series([], Name: Order Date, dtype: int64)"
      ]
     },
     "execution_count": 58,
     "metadata": {},
     "output_type": "execute_result"
    }
   ],
   "source": [
    "r = df1['Order Date'].value_counts()\n",
    "r[r>1]"
   ]
  },
  {
   "cell_type": "code",
   "execution_count": 59,
   "id": "8153a6c4",
   "metadata": {},
   "outputs": [
    {
     "data": {
      "text/html": [
       "<div>\n",
       "<style scoped>\n",
       "    .dataframe tbody tr th:only-of-type {\n",
       "        vertical-align: middle;\n",
       "    }\n",
       "\n",
       "    .dataframe tbody tr th {\n",
       "        vertical-align: top;\n",
       "    }\n",
       "\n",
       "    .dataframe thead th {\n",
       "        text-align: right;\n",
       "    }\n",
       "</style>\n",
       "<table border=\"1\" class=\"dataframe\">\n",
       "  <thead>\n",
       "    <tr style=\"text-align: right;\">\n",
       "      <th></th>\n",
       "      <th>Order Date</th>\n",
       "      <th>Sales</th>\n",
       "    </tr>\n",
       "  </thead>\n",
       "  <tbody>\n",
       "    <tr>\n",
       "      <th>0</th>\n",
       "      <td>1/1/2017</td>\n",
       "      <td>243.8725</td>\n",
       "    </tr>\n",
       "    <tr>\n",
       "      <th>1</th>\n",
       "      <td>1/10/2014</td>\n",
       "      <td>51.9400</td>\n",
       "    </tr>\n",
       "    <tr>\n",
       "      <th>2</th>\n",
       "      <td>1/10/2015</td>\n",
       "      <td>1018.1040</td>\n",
       "    </tr>\n",
       "    <tr>\n",
       "      <th>3</th>\n",
       "      <td>1/10/2016</td>\n",
       "      <td>52.3850</td>\n",
       "    </tr>\n",
       "    <tr>\n",
       "      <th>4</th>\n",
       "      <td>1/11/2014</td>\n",
       "      <td>9.9400</td>\n",
       "    </tr>\n",
       "  </tbody>\n",
       "</table>\n",
       "</div>"
      ],
      "text/plain": [
       "  Order Date      Sales\n",
       "0   1/1/2017   243.8725\n",
       "1  1/10/2014    51.9400\n",
       "2  1/10/2015  1018.1040\n",
       "3  1/10/2016    52.3850\n",
       "4  1/11/2014     9.9400"
      ]
     },
     "execution_count": 59,
     "metadata": {},
     "output_type": "execute_result"
    }
   ],
   "source": [
    "df1.head()"
   ]
  },
  {
   "cell_type": "code",
   "execution_count": 60,
   "id": "27e6d74d",
   "metadata": {},
   "outputs": [
    {
     "data": {
      "text/plain": [
       "Order Date     object\n",
       "Sales         float64\n",
       "dtype: object"
      ]
     },
     "execution_count": 60,
     "metadata": {},
     "output_type": "execute_result"
    }
   ],
   "source": [
    "df1.dtypes"
   ]
  },
  {
   "cell_type": "code",
   "execution_count": 61,
   "id": "a9389de3",
   "metadata": {},
   "outputs": [
    {
     "data": {
      "text/html": [
       "<div>\n",
       "<style scoped>\n",
       "    .dataframe tbody tr th:only-of-type {\n",
       "        vertical-align: middle;\n",
       "    }\n",
       "\n",
       "    .dataframe tbody tr th {\n",
       "        vertical-align: top;\n",
       "    }\n",
       "\n",
       "    .dataframe thead th {\n",
       "        text-align: right;\n",
       "    }\n",
       "</style>\n",
       "<table border=\"1\" class=\"dataframe\">\n",
       "  <thead>\n",
       "    <tr style=\"text-align: right;\">\n",
       "      <th></th>\n",
       "      <th>Order Date</th>\n",
       "      <th>Sales</th>\n",
       "    </tr>\n",
       "  </thead>\n",
       "  <tbody>\n",
       "    <tr>\n",
       "      <th>49</th>\n",
       "      <td>2014-01-06</td>\n",
       "      <td>2573.8200</td>\n",
       "    </tr>\n",
       "    <tr>\n",
       "      <th>50</th>\n",
       "      <td>2014-01-07</td>\n",
       "      <td>76.7280</td>\n",
       "    </tr>\n",
       "    <tr>\n",
       "      <th>1</th>\n",
       "      <td>2014-01-10</td>\n",
       "      <td>51.9400</td>\n",
       "    </tr>\n",
       "    <tr>\n",
       "      <th>4</th>\n",
       "      <td>2014-01-11</td>\n",
       "      <td>9.9400</td>\n",
       "    </tr>\n",
       "    <tr>\n",
       "      <th>7</th>\n",
       "      <td>2014-01-13</td>\n",
       "      <td>439.9695</td>\n",
       "    </tr>\n",
       "  </tbody>\n",
       "</table>\n",
       "</div>"
      ],
      "text/plain": [
       "   Order Date      Sales\n",
       "49 2014-01-06  2573.8200\n",
       "50 2014-01-07    76.7280\n",
       "1  2014-01-10    51.9400\n",
       "4  2014-01-11     9.9400\n",
       "7  2014-01-13   439.9695"
      ]
     },
     "execution_count": 61,
     "metadata": {},
     "output_type": "execute_result"
    }
   ],
   "source": [
    "df1['Order Date'] = pd.to_datetime(df1['Order Date'])\n",
    "df1.sort_values('Order Date',inplace=True)\n",
    "df1.head()"
   ]
  },
  {
   "cell_type": "code",
   "execution_count": 62,
   "id": "80400442",
   "metadata": {},
   "outputs": [
    {
     "data": {
      "text/html": [
       "<div>\n",
       "<style scoped>\n",
       "    .dataframe tbody tr th:only-of-type {\n",
       "        vertical-align: middle;\n",
       "    }\n",
       "\n",
       "    .dataframe tbody tr th {\n",
       "        vertical-align: top;\n",
       "    }\n",
       "\n",
       "    .dataframe thead th {\n",
       "        text-align: right;\n",
       "    }\n",
       "</style>\n",
       "<table border=\"1\" class=\"dataframe\">\n",
       "  <thead>\n",
       "    <tr style=\"text-align: right;\">\n",
       "      <th></th>\n",
       "      <th>Sales</th>\n",
       "    </tr>\n",
       "    <tr>\n",
       "      <th>Order Date</th>\n",
       "      <th></th>\n",
       "    </tr>\n",
       "  </thead>\n",
       "  <tbody>\n",
       "    <tr>\n",
       "      <th>2014-01-06</th>\n",
       "      <td>2573.8200</td>\n",
       "    </tr>\n",
       "    <tr>\n",
       "      <th>2014-01-07</th>\n",
       "      <td>76.7280</td>\n",
       "    </tr>\n",
       "    <tr>\n",
       "      <th>2014-01-10</th>\n",
       "      <td>51.9400</td>\n",
       "    </tr>\n",
       "    <tr>\n",
       "      <th>2014-01-11</th>\n",
       "      <td>9.9400</td>\n",
       "    </tr>\n",
       "    <tr>\n",
       "      <th>2014-01-13</th>\n",
       "      <td>439.9695</td>\n",
       "    </tr>\n",
       "  </tbody>\n",
       "</table>\n",
       "</div>"
      ],
      "text/plain": [
       "                Sales\n",
       "Order Date           \n",
       "2014-01-06  2573.8200\n",
       "2014-01-07    76.7280\n",
       "2014-01-10    51.9400\n",
       "2014-01-11     9.9400\n",
       "2014-01-13   439.9695"
      ]
     },
     "execution_count": 62,
     "metadata": {},
     "output_type": "execute_result"
    }
   ],
   "source": [
    "df1.set_index('Order Date',inplace=True)\n",
    "df1.head()"
   ]
  },
  {
   "cell_type": "code",
   "execution_count": 63,
   "id": "085b58f7",
   "metadata": {},
   "outputs": [
    {
     "data": {
      "text/html": [
       "<div>\n",
       "<style scoped>\n",
       "    .dataframe tbody tr th:only-of-type {\n",
       "        vertical-align: middle;\n",
       "    }\n",
       "\n",
       "    .dataframe tbody tr th {\n",
       "        vertical-align: top;\n",
       "    }\n",
       "\n",
       "    .dataframe thead th {\n",
       "        text-align: right;\n",
       "    }\n",
       "</style>\n",
       "<table border=\"1\" class=\"dataframe\">\n",
       "  <thead>\n",
       "    <tr style=\"text-align: right;\">\n",
       "      <th></th>\n",
       "      <th>Sales</th>\n",
       "    </tr>\n",
       "    <tr>\n",
       "      <th>Order Date</th>\n",
       "      <th></th>\n",
       "    </tr>\n",
       "  </thead>\n",
       "  <tbody>\n",
       "    <tr>\n",
       "      <th>2014-01-06</th>\n",
       "      <td>2573.820000</td>\n",
       "    </tr>\n",
       "    <tr>\n",
       "      <th>2014-01-07</th>\n",
       "      <td>76.728000</td>\n",
       "    </tr>\n",
       "    <tr>\n",
       "      <th>2014-01-10</th>\n",
       "      <td>51.940000</td>\n",
       "    </tr>\n",
       "    <tr>\n",
       "      <th>2014-01-11</th>\n",
       "      <td>9.940000</td>\n",
       "    </tr>\n",
       "    <tr>\n",
       "      <th>2014-01-13</th>\n",
       "      <td>439.969500</td>\n",
       "    </tr>\n",
       "    <tr>\n",
       "      <th>2014-01-14</th>\n",
       "      <td>61.960000</td>\n",
       "    </tr>\n",
       "    <tr>\n",
       "      <th>2014-01-16</th>\n",
       "      <td>127.104000</td>\n",
       "    </tr>\n",
       "    <tr>\n",
       "      <th>2014-01-19</th>\n",
       "      <td>181.470000</td>\n",
       "    </tr>\n",
       "    <tr>\n",
       "      <th>2014-01-20</th>\n",
       "      <td>282.702000</td>\n",
       "    </tr>\n",
       "    <tr>\n",
       "      <th>2014-01-21</th>\n",
       "      <td>25.248000</td>\n",
       "    </tr>\n",
       "    <tr>\n",
       "      <th>2014-01-26</th>\n",
       "      <td>72.400000</td>\n",
       "    </tr>\n",
       "    <tr>\n",
       "      <th>2014-01-27</th>\n",
       "      <td>333.000000</td>\n",
       "    </tr>\n",
       "    <tr>\n",
       "      <th>2014-01-31</th>\n",
       "      <td>290.666000</td>\n",
       "    </tr>\n",
       "    <tr>\n",
       "      <th>2014-02-08</th>\n",
       "      <td>14.560000</td>\n",
       "    </tr>\n",
       "    <tr>\n",
       "      <th>2014-02-11</th>\n",
       "      <td>550.016667</td>\n",
       "    </tr>\n",
       "    <tr>\n",
       "      <th>2014-02-12</th>\n",
       "      <td>129.568000</td>\n",
       "    </tr>\n",
       "    <tr>\n",
       "      <th>2014-02-18</th>\n",
       "      <td>25.160000</td>\n",
       "    </tr>\n",
       "    <tr>\n",
       "      <th>2014-02-20</th>\n",
       "      <td>20.320000</td>\n",
       "    </tr>\n",
       "    <tr>\n",
       "      <th>2014-03-01</th>\n",
       "      <td>378.799000</td>\n",
       "    </tr>\n",
       "    <tr>\n",
       "      <th>2014-03-03</th>\n",
       "      <td>464.401000</td>\n",
       "    </tr>\n",
       "  </tbody>\n",
       "</table>\n",
       "</div>"
      ],
      "text/plain": [
       "                  Sales\n",
       "Order Date             \n",
       "2014-01-06  2573.820000\n",
       "2014-01-07    76.728000\n",
       "2014-01-10    51.940000\n",
       "2014-01-11     9.940000\n",
       "2014-01-13   439.969500\n",
       "2014-01-14    61.960000\n",
       "2014-01-16   127.104000\n",
       "2014-01-19   181.470000\n",
       "2014-01-20   282.702000\n",
       "2014-01-21    25.248000\n",
       "2014-01-26    72.400000\n",
       "2014-01-27   333.000000\n",
       "2014-01-31   290.666000\n",
       "2014-02-08    14.560000\n",
       "2014-02-11   550.016667\n",
       "2014-02-12   129.568000\n",
       "2014-02-18    25.160000\n",
       "2014-02-20    20.320000\n",
       "2014-03-01   378.799000\n",
       "2014-03-03   464.401000"
      ]
     },
     "execution_count": 63,
     "metadata": {},
     "output_type": "execute_result"
    }
   ],
   "source": [
    "df1.head(20)"
   ]
  },
  {
   "cell_type": "code",
   "execution_count": 64,
   "id": "5af8febe",
   "metadata": {},
   "outputs": [],
   "source": [
    "df2 = df1.copy()"
   ]
  },
  {
   "cell_type": "code",
   "execution_count": 65,
   "id": "4aa3bc35",
   "metadata": {},
   "outputs": [
    {
     "data": {
      "text/html": [
       "<div>\n",
       "<style scoped>\n",
       "    .dataframe tbody tr th:only-of-type {\n",
       "        vertical-align: middle;\n",
       "    }\n",
       "\n",
       "    .dataframe tbody tr th {\n",
       "        vertical-align: top;\n",
       "    }\n",
       "\n",
       "    .dataframe thead th {\n",
       "        text-align: right;\n",
       "    }\n",
       "</style>\n",
       "<table border=\"1\" class=\"dataframe\">\n",
       "  <thead>\n",
       "    <tr style=\"text-align: right;\">\n",
       "      <th></th>\n",
       "      <th>Sales</th>\n",
       "    </tr>\n",
       "    <tr>\n",
       "      <th>Order Date</th>\n",
       "      <th></th>\n",
       "    </tr>\n",
       "  </thead>\n",
       "  <tbody>\n",
       "    <tr>\n",
       "      <th>2014-01-06</th>\n",
       "      <td>2573.8200</td>\n",
       "    </tr>\n",
       "    <tr>\n",
       "      <th>2014-01-07</th>\n",
       "      <td>76.7280</td>\n",
       "    </tr>\n",
       "    <tr>\n",
       "      <th>2014-01-10</th>\n",
       "      <td>51.9400</td>\n",
       "    </tr>\n",
       "    <tr>\n",
       "      <th>2014-01-11</th>\n",
       "      <td>9.9400</td>\n",
       "    </tr>\n",
       "    <tr>\n",
       "      <th>2014-01-13</th>\n",
       "      <td>439.9695</td>\n",
       "    </tr>\n",
       "  </tbody>\n",
       "</table>\n",
       "</div>"
      ],
      "text/plain": [
       "                Sales\n",
       "Order Date           \n",
       "2014-01-06  2573.8200\n",
       "2014-01-07    76.7280\n",
       "2014-01-10    51.9400\n",
       "2014-01-11     9.9400\n",
       "2014-01-13   439.9695"
      ]
     },
     "execution_count": 65,
     "metadata": {},
     "output_type": "execute_result"
    }
   ],
   "source": [
    "df1.head()"
   ]
  },
  {
   "cell_type": "code",
   "execution_count": 74,
   "id": "a461dd2e",
   "metadata": {},
   "outputs": [
    {
     "data": {
      "text/plain": [
       "Order Date\n",
       "2014-01-01     4526.947500\n",
       "2014-02-01      739.624667\n",
       "2014-03-01     7613.739500\n",
       "2014-04-01     3743.443333\n",
       "2014-05-01     4390.429833\n",
       "2014-06-01     7804.209600\n",
       "2014-07-01     5893.565600\n",
       "2014-08-01     3977.143833\n",
       "2014-09-01     8573.639967\n",
       "2014-10-01     6413.311750\n",
       "2014-11-01     7209.694250\n",
       "2014-12-01     8653.071493\n",
       "2015-01-01     9824.892600\n",
       "2015-02-01     1789.218667\n",
       "2015-03-01     8392.004883\n",
       "2015-04-01     4598.329217\n",
       "2015-05-01     3672.571875\n",
       "2015-06-01     5429.513667\n",
       "2015-07-01     7260.098667\n",
       "2015-08-01     5252.319200\n",
       "2015-09-01     5829.524360\n",
       "2015-10-01     5831.375833\n",
       "2015-11-01     9307.929293\n",
       "2015-12-01     7772.598340\n",
       "2016-01-01     5683.541667\n",
       "2016-02-01     2250.345167\n",
       "2016-03-01     7512.678917\n",
       "2016-04-01     8650.480100\n",
       "2016-05-01     6403.183167\n",
       "2016-06-01     6435.529633\n",
       "2016-07-01     5252.366833\n",
       "2016-08-01     5401.181633\n",
       "2016-09-01     9514.026733\n",
       "2016-10-01     4029.486267\n",
       "2016-11-01     9443.653060\n",
       "2016-12-01    12909.263754\n",
       "2017-01-01     3803.047417\n",
       "2017-02-01     2956.048413\n",
       "2017-03-01     4709.415067\n",
       "2017-04-01     4732.895833\n",
       "2017-05-01     7596.854200\n",
       "2017-06-01    10214.680383\n",
       "2017-07-01     4990.703767\n",
       "2017-08-01     6466.998929\n",
       "2017-09-01     7588.194140\n",
       "2017-10-01     7638.449984\n",
       "2017-11-01    12020.100939\n",
       "2017-12-01     6303.614143\n",
       "Freq: MS, Name: Sales, dtype: float64"
      ]
     },
     "execution_count": 74,
     "metadata": {},
     "output_type": "execute_result"
    }
   ],
   "source": [
    "df3 = df2['Sales'].resample('MS').sum()\n",
    "df3"
   ]
  },
  {
   "cell_type": "code",
   "execution_count": 72,
   "id": "e59dfc9a",
   "metadata": {},
   "outputs": [
    {
     "data": {
      "text/plain": [
       "Order Date\n",
       "2014-01-01    348.226731\n",
       "2014-02-01    147.924933\n",
       "2014-03-01    447.867029\n",
       "2014-04-01    267.388810\n",
       "2014-05-01    274.401865\n",
       "2014-06-01    410.747874\n",
       "2014-07-01    327.420311\n",
       "2014-08-01    248.571490\n",
       "2014-09-01    357.234999\n",
       "2014-10-01    400.831984\n",
       "2014-11-01    327.713375\n",
       "2014-12-01    432.653575\n",
       "2015-01-01    818.741050\n",
       "2015-02-01    298.203111\n",
       "2015-03-01    524.500305\n",
       "2015-04-01    353.717632\n",
       "2015-05-01    244.838125\n",
       "2015-06-01    301.639648\n",
       "2015-07-01    382.110456\n",
       "2015-08-01    328.269950\n",
       "2015-09-01    306.817072\n",
       "2015-10-01    306.914518\n",
       "2015-11-01    387.830387\n",
       "2015-12-01    353.299925\n",
       "2016-01-01    378.902778\n",
       "2016-02-01    204.576833\n",
       "2016-03-01    357.746615\n",
       "2016-04-01    455.288426\n",
       "2016-05-01    291.053780\n",
       "2016-06-01    402.220602\n",
       "2016-07-01    308.962755\n",
       "2016-08-01    317.716567\n",
       "2016-09-01    396.417781\n",
       "2016-10-01    212.078225\n",
       "2016-11-01    377.746122\n",
       "2016-12-01    496.510144\n",
       "2017-01-01    253.536494\n",
       "2017-02-01    227.388339\n",
       "2017-03-01    235.470753\n",
       "2017-04-01    236.644792\n",
       "2017-05-01    303.874168\n",
       "2017-06-01    444.116538\n",
       "2017-07-01    237.652560\n",
       "2017-08-01    359.277718\n",
       "2017-09-01    316.174756\n",
       "2017-10-01    305.537999\n",
       "2017-11-01    414.486239\n",
       "2017-12-01    252.144566\n",
       "Freq: MS, Name: Sales, dtype: float64"
      ]
     },
     "execution_count": 72,
     "metadata": {},
     "output_type": "execute_result"
    }
   ],
   "source": [
    "df4 = df2['Sales'].resample('MS').mean()\n",
    "df4"
   ]
  },
  {
   "cell_type": "code",
   "execution_count": 78,
   "id": "6f56a18b",
   "metadata": {},
   "outputs": [],
   "source": [
    "def kpss_test(data):\n",
    "    res = kpss(data)\n",
    "    print('KPSS-Test_Stat',res[0])\n",
    "    print('p-val',res[1])\n",
    "    if res[1]< 0.05:\n",
    "        print('Ho accepted - Data is non-stationary')\n",
    "    else:\n",
    "        print('H1 accepted - Data is stationary')"
   ]
  },
  {
   "cell_type": "code",
   "execution_count": 80,
   "id": "f7dd8bb5",
   "metadata": {},
   "outputs": [
    {
     "name": "stdout",
     "output_type": "stream",
     "text": [
      "KPSS-Test_Stat 0.34533824625227477\n",
      "p-val 0.1\n",
      "H1 accepted - Data is stationary\n"
     ]
    },
    {
     "name": "stderr",
     "output_type": "stream",
     "text": [
      "C:\\Users\\Dell\\anaconda3\\lib\\site-packages\\statsmodels\\tsa\\stattools.py:2022: InterpolationWarning: The test statistic is outside of the range of p-values available in the\n",
      "look-up table. The actual p-value is greater than the p-value returned.\n",
      "\n",
      "  warnings.warn(\n"
     ]
    }
   ],
   "source": [
    "kpss_test(df3)"
   ]
  },
  {
   "cell_type": "code",
   "execution_count": 81,
   "id": "cda6a11e",
   "metadata": {},
   "outputs": [
    {
     "name": "stdout",
     "output_type": "stream",
     "text": [
      "KPSS-Test_Stat 0.1860982178099167\n",
      "p-val 0.1\n",
      "H1 accepted - Data is stationary\n"
     ]
    },
    {
     "name": "stderr",
     "output_type": "stream",
     "text": [
      "C:\\Users\\Dell\\anaconda3\\lib\\site-packages\\statsmodels\\tsa\\stattools.py:2022: InterpolationWarning: The test statistic is outside of the range of p-values available in the\n",
      "look-up table. The actual p-value is greater than the p-value returned.\n",
      "\n",
      "  warnings.warn(\n"
     ]
    }
   ],
   "source": [
    "kpss_test(df4)"
   ]
  },
  {
   "cell_type": "code",
   "execution_count": 75,
   "id": "8e3b4b1b",
   "metadata": {},
   "outputs": [],
   "source": [
    "def adf_test(data):\n",
    "    res = adfuller(data)\n",
    "#     print('res',res)\n",
    "    print('ADF-Test_Stat',res[0])\n",
    "    print('p-val',res[1])\n",
    "    if res[1]> 0.05:\n",
    "        print('Ho accepted - Data is non-stationary')\n",
    "    else:\n",
    "        print('H1 accepted - Data is stationary')"
   ]
  },
  {
   "cell_type": "code",
   "execution_count": 76,
   "id": "b2514f7b",
   "metadata": {},
   "outputs": [
    {
     "name": "stdout",
     "output_type": "stream",
     "text": [
      "ADF-Test_Stat -5.884858543508162\n",
      "p-val 3.0182932845617726e-07\n",
      "H1 accepted - Data is stationary\n"
     ]
    }
   ],
   "source": [
    "adf_test(df3)"
   ]
  },
  {
   "cell_type": "code",
   "execution_count": 77,
   "id": "405d379e",
   "metadata": {},
   "outputs": [
    {
     "name": "stdout",
     "output_type": "stream",
     "text": [
      "ADF-Test_Stat -7.15016051779849\n",
      "p-val 3.156384360019644e-10\n",
      "H1 accepted - Data is stationary\n"
     ]
    }
   ],
   "source": [
    "adf_test(df4)"
   ]
  },
  {
   "cell_type": "code",
   "execution_count": 83,
   "id": "28f2fcf6",
   "metadata": {},
   "outputs": [
    {
     "name": "stdout",
     "output_type": "stream",
     "text": [
      "2014-01-01 00:00:00\n",
      "2017-12-01 00:00:00\n"
     ]
    }
   ],
   "source": [
    "print(df3.index.min())\n",
    "print(df3.index.max())"
   ]
  },
  {
   "cell_type": "code",
   "execution_count": 82,
   "id": "81fee8b3",
   "metadata": {},
   "outputs": [
    {
     "data": {
      "image/png": "[encoded data removed]",
      "text/plain": [
       "<Figure size 432x288 with 1 Axes>"
      ]
     },
     "metadata": {
      "needs_background": "light"
     },
     "output_type": "display_data"
    }
   ],
   "source": [
    "df3.plot()\n",
    "plt.show()"
   ]
  },
  {
   "cell_type": "code",
   "execution_count": 84,
   "id": "e14c7080",
   "metadata": {},
   "outputs": [
    {
     "data": {
      "image/png": "[encoded data removed]",
      "text/plain": [
       "<Figure size 432x288 with 4 Axes>"
      ]
     },
     "metadata": {
      "needs_background": "light"
     },
     "output_type": "display_data"
    }
   ],
   "source": [
    "from statsmodels.tsa.seasonal import seasonal_decompose\n",
    "result = seasonal_decompose(df3, model='additive')\n",
    "result.plot()\n",
    "plt.show()"
   ]
  },
  {
   "cell_type": "code",
   "execution_count": 85,
   "id": "ae217200",
   "metadata": {},
   "outputs": [
    {
     "data": {
      "text/plain": [
       "(48,)"
      ]
     },
     "execution_count": 85,
     "metadata": {},
     "output_type": "execute_result"
    }
   ],
   "source": [
    "df3.shape"
   ]
  },
  {
   "cell_type": "code",
   "execution_count": 86,
   "id": "199d4fcb",
   "metadata": {},
   "outputs": [
    {
     "data": {
      "text/plain": [
       "Order Date\n",
       "2014-01-01    4526.947500\n",
       "2014-02-01     739.624667\n",
       "2014-03-01    7613.739500\n",
       "2014-04-01    3743.443333\n",
       "2014-05-01    4390.429833\n",
       "Freq: MS, Name: Sales, dtype: float64"
      ]
     },
     "execution_count": 86,
     "metadata": {},
     "output_type": "execute_result"
    }
   ],
   "source": [
    "df3.head()"
   ]
  },
  {
   "cell_type": "markdown",
   "id": "75bf3fff",
   "metadata": {},
   "source": [
    "#### AutoCorrelation (ACF) and Partial Autorrelation (PACF)"
   ]
  },
  {
   "cell_type": "code",
   "execution_count": 93,
   "id": "4df594b3",
   "metadata": {},
   "outputs": [],
   "source": [
    "from statsmodels.graphics.tsaplots import plot_acf,plot_pacf"
   ]
  },
  {
   "cell_type": "code",
   "execution_count": 94,
   "id": "514d1288",
   "metadata": {},
   "outputs": [
    {
     "data": {
      "image/png": "[encoded data removed]",
      "text/plain": [
       "<Figure size 432x288 with 1 Axes>"
      ]
     },
     "metadata": {
      "needs_background": "light"
     },
     "output_type": "display_data"
    }
   ],
   "source": [
    "plot_acf(df3)\n",
    "plt.show()\n",
    "# q = 1"
   ]
  },
  {
   "cell_type": "code",
   "execution_count": 95,
   "id": "deb7b91f",
   "metadata": {},
   "outputs": [
    {
     "name": "stderr",
     "output_type": "stream",
     "text": [
      "C:\\Users\\Dell\\anaconda3\\lib\\site-packages\\statsmodels\\graphics\\tsaplots.py:348: FutureWarning: The default method 'yw' can produce PACF values outside of the [-1,1] interval. After 0.13, the default will change tounadjusted Yule-Walker ('ywm'). You can use this method now by setting method='ywm'.\n",
      "  warnings.warn(\n"
     ]
    },
    {
     "data": {
      "image/png": "[encoded data removed]",
      "text/plain": [
       "<Figure size 432x288 with 1 Axes>"
      ]
     },
     "metadata": {
      "needs_background": "light"
     },
     "output_type": "display_data"
    }
   ],
   "source": [
    "plot_pacf(df3)\n",
    "plt.show()\n",
    "# p = 1"
   ]
  },
  {
   "cell_type": "markdown",
   "id": "b4de97a6",
   "metadata": {},
   "source": [
    "#### Inference\n",
    "(p,d,q) = (1,0,1) "
   ]
  },
  {
   "cell_type": "markdown",
   "id": "1a258184",
   "metadata": {},
   "source": [
    "#### Data Split"
   ]
  },
  {
   "cell_type": "code",
   "execution_count": 88,
   "id": "fd197cc6",
   "metadata": {},
   "outputs": [
    {
     "name": "stdout",
     "output_type": "stream",
     "text": [
      "Train_tail Order Date\n",
      "2017-02-01     2956.048413\n",
      "2017-03-01     4709.415067\n",
      "2017-04-01     4732.895833\n",
      "2017-05-01     7596.854200\n",
      "2017-06-01    10214.680383\n",
      "Freq: MS, Name: Sales, dtype: float64\n",
      "Test_tail Order Date\n",
      "2017-07-01     4990.703767\n",
      "2017-08-01     6466.998929\n",
      "2017-09-01     7588.194140\n",
      "2017-10-01     7638.449984\n",
      "2017-11-01    12020.100939\n",
      "2017-12-01     6303.614143\n",
      "Freq: MS, Name: Sales, dtype: float64\n"
     ]
    }
   ],
   "source": [
    "train = df3[:42]\n",
    "test = df3[42:]\n",
    "print('Train_tail',train.tail())\n",
    "print('Test_tail',test.head(6))"
   ]
  },
  {
   "cell_type": "code",
   "execution_count": 89,
   "id": "e948928a",
   "metadata": {},
   "outputs": [
    {
     "name": "stdout",
     "output_type": "stream",
     "text": [
      "(42,)\n",
      "(6,)\n"
     ]
    }
   ],
   "source": [
    "print(train.shape)\n",
    "print(test.shape)"
   ]
  },
  {
   "cell_type": "code",
   "execution_count": 98,
   "id": "cbc3dffb",
   "metadata": {},
   "outputs": [
    {
     "data": {
      "image/png": "[encoded data removed]",
      "text/plain": [
       "<Figure size 576x504 with 1 Axes>"
      ]
     },
     "metadata": {
      "needs_background": "light"
     },
     "output_type": "display_data"
    }
   ],
   "source": [
    "plt.figure(figsize=(8,7))\n",
    "plt.plot(train,label='Train')\n",
    "plt.plot(test,label='Test')\n",
    "plt.grid()\n",
    "plt.legend()\n",
    "plt.show()"
   ]
  },
  {
   "cell_type": "code",
   "execution_count": 108,
   "id": "f8b77418",
   "metadata": {},
   "outputs": [],
   "source": [
    "from sklearn.metrics import mean_squared_error, mean_absolute_error, mean_absolute_percentage_error"
   ]
  },
  {
   "cell_type": "code",
   "execution_count": 109,
   "id": "d3f25ef7",
   "metadata": {},
   "outputs": [],
   "source": [
    "def test_metrics(test,pred):\n",
    "    mse = mean_squared_error(test,pred)\n",
    "    rmse = mean_squared_error(test,pred,squared=False)\n",
    "#     mae = mean_squared_error(test,pred)\n",
    "    mape = mean_absolute_percentage_error(test,pred)\n",
    "    return mse,rmse,mape"
   ]
  },
  {
   "cell_type": "code",
   "execution_count": null,
   "id": "dd5535c7",
   "metadata": {},
   "outputs": [],
   "source": []
  },
  {
   "cell_type": "markdown",
   "id": "15046b15",
   "metadata": {},
   "source": [
    "### Model Building"
   ]
  },
  {
   "cell_type": "markdown",
   "id": "e095ffbd",
   "metadata": {},
   "source": [
    "### AR Model (1,0,0)"
   ]
  },
  {
   "cell_type": "code",
   "execution_count": 101,
   "id": "f8fbf38f",
   "metadata": {},
   "outputs": [
    {
     "name": "stdout",
     "output_type": "stream",
     "text": [
      "                               SARIMAX Results                                \n",
      "==============================================================================\n",
      "Dep. Variable:                  Sales   No. Observations:                   42\n",
      "Model:                 ARIMA(1, 0, 0)   Log Likelihood                -388.050\n",
      "Date:                Wed, 13 Jul 2022   AIC                            782.100\n",
      "Time:                        10:59:37   BIC                            787.313\n",
      "Sample:                    01-01-2014   HQIC                           784.011\n",
      "                         - 06-01-2017                                         \n",
      "Covariance Type:                  opg                                         \n",
      "==============================================================================\n",
      "                 coef    std err          z      P>|z|      [0.025      0.975]\n",
      "------------------------------------------------------------------------------\n",
      "const       6238.0447    388.812     16.044      0.000    5475.987    7000.102\n",
      "ar.L1         -0.0272      0.179     -0.152      0.879      -0.377       0.323\n",
      "sigma2      6.283e+06   1.58e+06      3.969      0.000    3.18e+06    9.39e+06\n",
      "===================================================================================\n",
      "Ljung-Box (L1) (Q):                   0.00   Jarque-Bera (JB):                 0.31\n",
      "Prob(Q):                              0.97   Prob(JB):                         0.86\n",
      "Heteroskedasticity (H):               1.15   Skew:                             0.21\n",
      "Prob(H) (two-sided):                  0.79   Kurtosis:                         3.00\n",
      "===================================================================================\n",
      "\n",
      "Warnings:\n",
      "[1] Covariance matrix calculated using the outer product of gradients (complex-step).\n"
     ]
    }
   ],
   "source": [
    "m1 = ARIMA(train,order=(1,0,0))\n",
    "ar_m1 = m1.fit()\n",
    "print(ar_m1.summary())"
   ]
  },
  {
   "cell_type": "code",
   "execution_count": 102,
   "id": "64dfc9fd",
   "metadata": {},
   "outputs": [
    {
     "data": {
      "text/plain": [
       "2017-07-01    6129.909024\n",
       "2017-08-01    6240.985175\n",
       "2017-09-01    6237.964710\n",
       "2017-10-01    6238.046845\n",
       "2017-11-01    6238.044611\n",
       "2017-12-01    6238.044672\n",
       "Freq: MS, Name: predicted_mean, dtype: float64"
      ]
     },
     "execution_count": 102,
     "metadata": {},
     "output_type": "execute_result"
    }
   ],
   "source": [
    "fcast_m1 = ar_m1.forecast(6)\n",
    "fcast_m1"
   ]
  },
  {
   "cell_type": "code",
   "execution_count": 100,
   "id": "18eea24a",
   "metadata": {},
   "outputs": [
    {
     "data": {
      "text/plain": [
       "Order Date\n",
       "2017-07-01     4990.703767\n",
       "2017-08-01     6466.998929\n",
       "2017-09-01     7588.194140\n",
       "2017-10-01     7638.449984\n",
       "2017-11-01    12020.100939\n",
       "2017-12-01     6303.614143\n",
       "Freq: MS, Name: Sales, dtype: float64"
      ]
     },
     "execution_count": 100,
     "metadata": {},
     "output_type": "execute_result"
    }
   ],
   "source": [
    "test"
   ]
  },
  {
   "cell_type": "code",
   "execution_count": 116,
   "id": "6c3fd83c",
   "metadata": {},
   "outputs": [
    {
     "data": {
      "image/png": "[encoded data removed]",
      "text/plain": [
       "<Figure size 576x504 with 1 Axes>"
      ]
     },
     "metadata": {
      "needs_background": "light"
     },
     "output_type": "display_data"
    }
   ],
   "source": [
    "plt.figure(figsize=(8,7))\n",
    "plt.plot(train,label='Train')\n",
    "plt.plot(test,label='Test')\n",
    "plt.plot(fcast_m1,label='Fcast')\n",
    "plt.title('AR Model')\n",
    "plt.grid()\n",
    "plt.legend()\n",
    "plt.show()"
   ]
  },
  {
   "cell_type": "code",
   "execution_count": 105,
   "id": "95fa5840",
   "metadata": {},
   "outputs": [
    {
     "name": "stdout",
     "output_type": "stream",
     "text": [
      "AIC 782.1002852297364\n"
     ]
    }
   ],
   "source": [
    "aic_m1 = ar_m1.aic\n",
    "print('AIC',aic_m1)"
   ]
  },
  {
   "cell_type": "code",
   "execution_count": 110,
   "id": "8e8263d2",
   "metadata": {},
   "outputs": [],
   "source": [
    "mse_m1,rmse_m1,mape_m1  = test_metrics(test,fcast_m1)"
   ]
  },
  {
   "cell_type": "code",
   "execution_count": 112,
   "id": "bc53a08f",
   "metadata": {},
   "outputs": [
    {
     "data": {
      "text/html": [
       "<div>\n",
       "<style scoped>\n",
       "    .dataframe tbody tr th:only-of-type {\n",
       "        vertical-align: middle;\n",
       "    }\n",
       "\n",
       "    .dataframe tbody tr th {\n",
       "        vertical-align: top;\n",
       "    }\n",
       "\n",
       "    .dataframe thead th {\n",
       "        text-align: right;\n",
       "    }\n",
       "</style>\n",
       "<table border=\"1\" class=\"dataframe\">\n",
       "  <thead>\n",
       "    <tr style=\"text-align: right;\">\n",
       "      <th></th>\n",
       "      <th>Model</th>\n",
       "      <th>MSE</th>\n",
       "      <th>RMSE</th>\n",
       "      <th>MAPE</th>\n",
       "      <th>AIC</th>\n",
       "    </tr>\n",
       "  </thead>\n",
       "  <tbody>\n",
       "    <tr>\n",
       "      <th>0</th>\n",
       "      <td>AR</td>\n",
       "      <td>6.428266e+06</td>\n",
       "      <td>2535.402468</td>\n",
       "      <td>0.185987</td>\n",
       "      <td>782.100285</td>\n",
       "    </tr>\n",
       "  </tbody>\n",
       "</table>\n",
       "</div>"
      ],
      "text/plain": [
       "  Model           MSE         RMSE      MAPE         AIC\n",
       "0    AR  6.428266e+06  2535.402468  0.185987  782.100285"
      ]
     },
     "execution_count": 112,
     "metadata": {},
     "output_type": "execute_result"
    }
   ],
   "source": [
    "m1_res = pd.DataFrame({'Model':'AR','MSE':mse_m1,'RMSE':rmse_m1,\n",
    "                       'MAPE':mape_m1,'AIC':aic_m1},index=[0])\n",
    "m1_res"
   ]
  },
  {
   "cell_type": "markdown",
   "id": "ba2b010a",
   "metadata": {},
   "source": [
    "#### MA Model (0,0,1)"
   ]
  },
  {
   "cell_type": "code",
   "execution_count": 114,
   "id": "571f7c64",
   "metadata": {},
   "outputs": [
    {
     "name": "stdout",
     "output_type": "stream",
     "text": [
      "                               SARIMAX Results                                \n",
      "==============================================================================\n",
      "Dep. Variable:                  Sales   No. Observations:                   42\n",
      "Model:                 ARIMA(0, 0, 1)   Log Likelihood                -388.095\n",
      "Date:                Wed, 13 Jul 2022   AIC                            782.189\n",
      "Time:                        11:32:29   BIC                            787.402\n",
      "Sample:                    01-01-2014   HQIC                           784.100\n",
      "                         - 06-01-2017                                         \n",
      "Covariance Type:                  opg                                         \n",
      "==============================================================================\n",
      "                 coef    std err          z      P>|z|      [0.025      0.975]\n",
      "------------------------------------------------------------------------------\n",
      "const       6238.0447    351.082     17.768      0.000    5549.936    6926.153\n",
      "ma.L1         -0.0453      0.170     -0.267      0.789      -0.378       0.287\n",
      "sigma2      5.768e+06   1.32e+06      4.381      0.000    3.19e+06    8.35e+06\n",
      "===================================================================================\n",
      "Ljung-Box (L1) (Q):                   0.00   Jarque-Bera (JB):                 0.35\n",
      "Prob(Q):                              0.96   Prob(JB):                         0.84\n",
      "Heteroskedasticity (H):               1.16   Skew:                             0.22\n",
      "Prob(H) (two-sided):                  0.79   Kurtosis:                         3.05\n",
      "===================================================================================\n",
      "\n",
      "Warnings:\n",
      "[1] Covariance matrix calculated using the outer product of gradients (complex-step).\n"
     ]
    }
   ],
   "source": [
    "m2 = ARIMA(train,order=(0,0,1))\n",
    "ar_m2 = m2.fit()\n",
    "print(ar_m2.summary())"
   ]
  },
  {
   "cell_type": "code",
   "execution_count": 115,
   "id": "c296fad7",
   "metadata": {},
   "outputs": [
    {
     "data": {
      "text/plain": [
       "2017-07-01    6055.105647\n",
       "2017-08-01    6238.044669\n",
       "2017-09-01    6238.044669\n",
       "2017-10-01    6238.044669\n",
       "2017-11-01    6238.044669\n",
       "2017-12-01    6238.044669\n",
       "Freq: MS, Name: predicted_mean, dtype: float64"
      ]
     },
     "execution_count": 115,
     "metadata": {},
     "output_type": "execute_result"
    }
   ],
   "source": [
    "fcast_m2 = ar_m2.forecast(6)\n",
    "fcast_m2"
   ]
  },
  {
   "cell_type": "code",
   "execution_count": 117,
   "id": "89248014",
   "metadata": {},
   "outputs": [
    {
     "data": {
      "image/png": "[encoded data removed]",
      "text/plain": [
       "<Figure size 576x504 with 1 Axes>"
      ]
     },
     "metadata": {
      "needs_background": "light"
     },
     "output_type": "display_data"
    }
   ],
   "source": [
    "plt.figure(figsize=(8,7))\n",
    "plt.plot(train,label='Train')\n",
    "plt.plot(test,label='Test')\n",
    "plt.plot(fcast_m2,label='Fcast')\n",
    "plt.title('MA Model')\n",
    "plt.grid()\n",
    "plt.legend()\n",
    "plt.show()"
   ]
  },
  {
   "cell_type": "code",
   "execution_count": 118,
   "id": "a37ac6ea",
   "metadata": {},
   "outputs": [
    {
     "name": "stdout",
     "output_type": "stream",
     "text": [
      "AIC 782.1894540975688\n"
     ]
    }
   ],
   "source": [
    "aic_m2 = ar_m2.aic\n",
    "print('AIC',aic_m2)"
   ]
  },
  {
   "cell_type": "code",
   "execution_count": 119,
   "id": "acd677e4",
   "metadata": {},
   "outputs": [],
   "source": [
    "mse_m2,rmse_m2,mape_m2  = test_metrics(test,fcast_m2)"
   ]
  },
  {
   "cell_type": "code",
   "execution_count": 120,
   "id": "2ea0015b",
   "metadata": {},
   "outputs": [
    {
     "data": {
      "text/html": [
       "<div>\n",
       "<style scoped>\n",
       "    .dataframe tbody tr th:only-of-type {\n",
       "        vertical-align: middle;\n",
       "    }\n",
       "\n",
       "    .dataframe tbody tr th {\n",
       "        vertical-align: top;\n",
       "    }\n",
       "\n",
       "    .dataframe thead th {\n",
       "        text-align: right;\n",
       "    }\n",
       "</style>\n",
       "<table border=\"1\" class=\"dataframe\">\n",
       "  <thead>\n",
       "    <tr style=\"text-align: right;\">\n",
       "      <th></th>\n",
       "      <th>Model</th>\n",
       "      <th>MSE</th>\n",
       "      <th>RMSE</th>\n",
       "      <th>MAPE</th>\n",
       "      <th>AIC</th>\n",
       "    </tr>\n",
       "  </thead>\n",
       "  <tbody>\n",
       "    <tr>\n",
       "      <th>1</th>\n",
       "      <td>MA</td>\n",
       "      <td>6.400981e+06</td>\n",
       "      <td>2530.015946</td>\n",
       "      <td>0.183563</td>\n",
       "      <td>782.189454</td>\n",
       "    </tr>\n",
       "  </tbody>\n",
       "</table>\n",
       "</div>"
      ],
      "text/plain": [
       "  Model           MSE         RMSE      MAPE         AIC\n",
       "1    MA  6.400981e+06  2530.015946  0.183563  782.189454"
      ]
     },
     "execution_count": 120,
     "metadata": {},
     "output_type": "execute_result"
    }
   ],
   "source": [
    "m2_res = pd.DataFrame({'Model':'MA','MSE':mse_m2,'RMSE':rmse_m2,\n",
    "                       'MAPE':mape_m2,'AIC':aic_m2},index=[1])\n",
    "m2_res"
   ]
  },
  {
   "cell_type": "code",
   "execution_count": 121,
   "id": "303b2b7c",
   "metadata": {},
   "outputs": [
    {
     "data": {
      "text/html": [
       "<div>\n",
       "<style scoped>\n",
       "    .dataframe tbody tr th:only-of-type {\n",
       "        vertical-align: middle;\n",
       "    }\n",
       "\n",
       "    .dataframe tbody tr th {\n",
       "        vertical-align: top;\n",
       "    }\n",
       "\n",
       "    .dataframe thead th {\n",
       "        text-align: right;\n",
       "    }\n",
       "</style>\n",
       "<table border=\"1\" class=\"dataframe\">\n",
       "  <thead>\n",
       "    <tr style=\"text-align: right;\">\n",
       "      <th></th>\n",
       "      <th>Model</th>\n",
       "      <th>MSE</th>\n",
       "      <th>RMSE</th>\n",
       "      <th>MAPE</th>\n",
       "      <th>AIC</th>\n",
       "    </tr>\n",
       "  </thead>\n",
       "  <tbody>\n",
       "    <tr>\n",
       "      <th>0</th>\n",
       "      <td>AR</td>\n",
       "      <td>6.428266e+06</td>\n",
       "      <td>2535.402468</td>\n",
       "      <td>0.185987</td>\n",
       "      <td>782.100285</td>\n",
       "    </tr>\n",
       "    <tr>\n",
       "      <th>1</th>\n",
       "      <td>MA</td>\n",
       "      <td>6.400981e+06</td>\n",
       "      <td>2530.015946</td>\n",
       "      <td>0.183563</td>\n",
       "      <td>782.189454</td>\n",
       "    </tr>\n",
       "  </tbody>\n",
       "</table>\n",
       "</div>"
      ],
      "text/plain": [
       "  Model           MSE         RMSE      MAPE         AIC\n",
       "0    AR  6.428266e+06  2535.402468  0.185987  782.100285\n",
       "1    MA  6.400981e+06  2530.015946  0.183563  782.189454"
      ]
     },
     "execution_count": 121,
     "metadata": {},
     "output_type": "execute_result"
    }
   ],
   "source": [
    "res = pd.concat([m1_res,m2_res])\n",
    "res"
   ]
  },
  {
   "cell_type": "markdown",
   "id": "45173241",
   "metadata": {},
   "source": [
    "### ARMA (1,0,1)"
   ]
  },
  {
   "cell_type": "code",
   "execution_count": 122,
   "id": "118e627f",
   "metadata": {},
   "outputs": [
    {
     "name": "stdout",
     "output_type": "stream",
     "text": [
      "                               SARIMAX Results                                \n",
      "==============================================================================\n",
      "Dep. Variable:                  Sales   No. Observations:                   42\n",
      "Model:                 ARIMA(1, 0, 1)   Log Likelihood                -386.642\n",
      "Date:                Wed, 13 Jul 2022   AIC                            781.284\n",
      "Time:                        11:35:17   BIC                            788.235\n",
      "Sample:                    01-01-2014   HQIC                           783.832\n",
      "                         - 06-01-2017                                         \n",
      "Covariance Type:                  opg                                         \n",
      "==============================================================================\n",
      "                 coef    std err          z      P>|z|      [0.025      0.975]\n",
      "------------------------------------------------------------------------------\n",
      "const       6305.8789    112.991     55.809      0.000    6084.420    6527.338\n",
      "ar.L1          0.7454      0.179      4.159      0.000       0.394       1.097\n",
      "ma.L1         -0.9962      0.241     -4.133      0.000      -1.469      -0.524\n",
      "sigma2      5.678e+06      0.001   5.02e+09      0.000    5.68e+06    5.68e+06\n",
      "===================================================================================\n",
      "Ljung-Box (L1) (Q):                   0.21   Jarque-Bera (JB):                 4.17\n",
      "Prob(Q):                              0.64   Prob(JB):                         0.12\n",
      "Heteroskedasticity (H):               1.02   Skew:                             0.60\n",
      "Prob(H) (two-sided):                  0.97   Kurtosis:                         3.97\n",
      "===================================================================================\n",
      "\n",
      "Warnings:\n",
      "[1] Covariance matrix calculated using the outer product of gradients (complex-step).\n",
      "[2] Covariance matrix is singular or near-singular, with condition number 5.52e+26. Standard errors may be unstable.\n"
     ]
    }
   ],
   "source": [
    "m3 = ARIMA(train,order=(1,0,1))\n",
    "ar_m3 = m3.fit()\n",
    "print(ar_m3.summary())"
   ]
  },
  {
   "cell_type": "code",
   "execution_count": 123,
   "id": "f030188b",
   "metadata": {},
   "outputs": [
    {
     "data": {
      "text/plain": [
       "2017-07-01    5331.598815\n",
       "2017-08-01    5579.693406\n",
       "2017-09-01    5764.612193\n",
       "2017-10-01    5902.442518\n",
       "2017-11-01    6005.175175\n",
       "2017-12-01    6081.747576\n",
       "Freq: MS, Name: predicted_mean, dtype: float64"
      ]
     },
     "execution_count": 123,
     "metadata": {},
     "output_type": "execute_result"
    }
   ],
   "source": [
    "fcast_m3 = ar_m3.forecast(6)\n",
    "fcast_m3"
   ]
  },
  {
   "cell_type": "code",
   "execution_count": 124,
   "id": "582c0145",
   "metadata": {},
   "outputs": [
    {
     "data": {
      "image/png": "[encoded data removed]",
      "text/plain": [
       "<Figure size 576x504 with 1 Axes>"
      ]
     },
     "metadata": {
      "needs_background": "light"
     },
     "output_type": "display_data"
    }
   ],
   "source": [
    "plt.figure(figsize=(8,7))\n",
    "plt.plot(train,label='Train')\n",
    "plt.plot(test,label='Test')\n",
    "plt.plot(fcast_m3,label='Fcast')\n",
    "plt.title('ARMA Model')\n",
    "plt.grid()\n",
    "plt.legend()\n",
    "plt.show()"
   ]
  },
  {
   "cell_type": "code",
   "execution_count": 125,
   "id": "d83a1c28",
   "metadata": {},
   "outputs": [
    {
     "name": "stdout",
     "output_type": "stream",
     "text": [
      "AIC 781.2839120639053\n"
     ]
    }
   ],
   "source": [
    "aic_m3 = ar_m3.aic\n",
    "print('AIC',aic_m3)"
   ]
  },
  {
   "cell_type": "code",
   "execution_count": 126,
   "id": "aa070f26",
   "metadata": {},
   "outputs": [],
   "source": [
    "mse_m3,rmse_m3,mape_m3  = test_metrics(test,fcast_m3)"
   ]
  },
  {
   "cell_type": "code",
   "execution_count": 127,
   "id": "9e19e8f3",
   "metadata": {},
   "outputs": [
    {
     "data": {
      "text/html": [
       "<div>\n",
       "<style scoped>\n",
       "    .dataframe tbody tr th:only-of-type {\n",
       "        vertical-align: middle;\n",
       "    }\n",
       "\n",
       "    .dataframe tbody tr th {\n",
       "        vertical-align: top;\n",
       "    }\n",
       "\n",
       "    .dataframe thead th {\n",
       "        text-align: right;\n",
       "    }\n",
       "</style>\n",
       "<table border=\"1\" class=\"dataframe\">\n",
       "  <thead>\n",
       "    <tr style=\"text-align: right;\">\n",
       "      <th></th>\n",
       "      <th>Model</th>\n",
       "      <th>MSE</th>\n",
       "      <th>RMSE</th>\n",
       "      <th>MAPE</th>\n",
       "      <th>AIC</th>\n",
       "    </tr>\n",
       "  </thead>\n",
       "  <tbody>\n",
       "    <tr>\n",
       "      <th>2</th>\n",
       "      <td>ARMA</td>\n",
       "      <td>7.245208e+06</td>\n",
       "      <td>2691.692475</td>\n",
       "      <td>0.201451</td>\n",
       "      <td>781.283912</td>\n",
       "    </tr>\n",
       "  </tbody>\n",
       "</table>\n",
       "</div>"
      ],
      "text/plain": [
       "  Model           MSE         RMSE      MAPE         AIC\n",
       "2  ARMA  7.245208e+06  2691.692475  0.201451  781.283912"
      ]
     },
     "execution_count": 127,
     "metadata": {},
     "output_type": "execute_result"
    }
   ],
   "source": [
    "m3_res = pd.DataFrame({'Model':'ARMA','MSE':mse_m3,'RMSE':rmse_m3,\n",
    "                       'MAPE':mape_m3,'AIC':aic_m3},index=[2])\n",
    "m3_res"
   ]
  },
  {
   "cell_type": "code",
   "execution_count": 128,
   "id": "2819e8c0",
   "metadata": {},
   "outputs": [
    {
     "data": {
      "text/html": [
       "<div>\n",
       "<style scoped>\n",
       "    .dataframe tbody tr th:only-of-type {\n",
       "        vertical-align: middle;\n",
       "    }\n",
       "\n",
       "    .dataframe tbody tr th {\n",
       "        vertical-align: top;\n",
       "    }\n",
       "\n",
       "    .dataframe thead th {\n",
       "        text-align: right;\n",
       "    }\n",
       "</style>\n",
       "<table border=\"1\" class=\"dataframe\">\n",
       "  <thead>\n",
       "    <tr style=\"text-align: right;\">\n",
       "      <th></th>\n",
       "      <th>Model</th>\n",
       "      <th>MSE</th>\n",
       "      <th>RMSE</th>\n",
       "      <th>MAPE</th>\n",
       "      <th>AIC</th>\n",
       "    </tr>\n",
       "  </thead>\n",
       "  <tbody>\n",
       "    <tr>\n",
       "      <th>0</th>\n",
       "      <td>AR</td>\n",
       "      <td>6.428266e+06</td>\n",
       "      <td>2535.402468</td>\n",
       "      <td>0.185987</td>\n",
       "      <td>782.100285</td>\n",
       "    </tr>\n",
       "    <tr>\n",
       "      <th>1</th>\n",
       "      <td>MA</td>\n",
       "      <td>6.400981e+06</td>\n",
       "      <td>2530.015946</td>\n",
       "      <td>0.183563</td>\n",
       "      <td>782.189454</td>\n",
       "    </tr>\n",
       "    <tr>\n",
       "      <th>2</th>\n",
       "      <td>ARMA</td>\n",
       "      <td>7.245208e+06</td>\n",
       "      <td>2691.692475</td>\n",
       "      <td>0.201451</td>\n",
       "      <td>781.283912</td>\n",
       "    </tr>\n",
       "  </tbody>\n",
       "</table>\n",
       "</div>"
      ],
      "text/plain": [
       "  Model           MSE         RMSE      MAPE         AIC\n",
       "0    AR  6.428266e+06  2535.402468  0.185987  782.100285\n",
       "1    MA  6.400981e+06  2530.015946  0.183563  782.189454\n",
       "2  ARMA  7.245208e+06  2691.692475  0.201451  781.283912"
      ]
     },
     "execution_count": 128,
     "metadata": {},
     "output_type": "execute_result"
    }
   ],
   "source": [
    "res1 = pd.concat([res,m3_res])\n",
    "res1"
   ]
  },
  {
   "cell_type": "markdown",
   "id": "2ab21589",
   "metadata": {},
   "source": [
    "#### ARIMA (1,1,1)"
   ]
  },
  {
   "cell_type": "code",
   "execution_count": 129,
   "id": "053214b3",
   "metadata": {},
   "outputs": [
    {
     "name": "stdout",
     "output_type": "stream",
     "text": [
      "                               SARIMAX Results                                \n",
      "==============================================================================\n",
      "Dep. Variable:                  Sales   No. Observations:                   42\n",
      "Model:                 ARIMA(1, 1, 1)   Log Likelihood                -382.394\n",
      "Date:                Wed, 13 Jul 2022   AIC                            770.788\n",
      "Time:                        11:46:27   BIC                            775.929\n",
      "Sample:                    01-01-2014   HQIC                           772.660\n",
      "                         - 06-01-2017                                         \n",
      "Covariance Type:                  opg                                         \n",
      "==============================================================================\n",
      "                 coef    std err          z      P>|z|      [0.025      0.975]\n",
      "------------------------------------------------------------------------------\n",
      "ar.L1          0.0069      0.185      0.037      0.970      -0.356       0.370\n",
      "ma.L1         -0.9185      0.100     -9.215      0.000      -1.114      -0.723\n",
      "sigma2        7.1e+06   1.87e+06      3.790      0.000    3.43e+06    1.08e+07\n",
      "===================================================================================\n",
      "Ljung-Box (L1) (Q):                   0.06   Jarque-Bera (JB):                 0.71\n",
      "Prob(Q):                              0.80   Prob(JB):                         0.70\n",
      "Heteroskedasticity (H):               0.95   Skew:                             0.01\n",
      "Prob(H) (two-sided):                  0.93   Kurtosis:                         2.35\n",
      "===================================================================================\n",
      "\n",
      "Warnings:\n",
      "[1] Covariance matrix calculated using the outer product of gradients (complex-step).\n"
     ]
    }
   ],
   "source": [
    "m4 = ARIMA(train,order=(1,1,1))\n",
    "ar_m4 = m4.fit()\n",
    "print(ar_m4.summary())"
   ]
  },
  {
   "cell_type": "code",
   "execution_count": 130,
   "id": "2c845934",
   "metadata": {},
   "outputs": [
    {
     "data": {
      "text/plain": [
       "2017-07-01    6605.106485\n",
       "2017-08-01    6580.080304\n",
       "2017-09-01    6579.906791\n",
       "2017-10-01    6579.905588\n",
       "2017-11-01    6579.905579\n",
       "2017-12-01    6579.905579\n",
       "Freq: MS, Name: predicted_mean, dtype: float64"
      ]
     },
     "execution_count": 130,
     "metadata": {},
     "output_type": "execute_result"
    }
   ],
   "source": [
    "fcast_m4 = ar_m4.forecast(6)\n",
    "fcast_m4"
   ]
  },
  {
   "cell_type": "code",
   "execution_count": 131,
   "id": "fc85a55f",
   "metadata": {},
   "outputs": [
    {
     "data": {
      "image/png": "[encoded data removed]",
      "text/plain": [
       "<Figure size 576x504 with 1 Axes>"
      ]
     },
     "metadata": {
      "needs_background": "light"
     },
     "output_type": "display_data"
    }
   ],
   "source": [
    "plt.figure(figsize=(8,7))\n",
    "plt.plot(train,label='Train')\n",
    "plt.plot(test,label='Test')\n",
    "plt.plot(fcast_m4,label='Fcast')\n",
    "plt.title('ARIMA Model')\n",
    "plt.grid()\n",
    "plt.legend()\n",
    "plt.show()"
   ]
  },
  {
   "cell_type": "code",
   "execution_count": 132,
   "id": "f629392e",
   "metadata": {},
   "outputs": [
    {
     "name": "stdout",
     "output_type": "stream",
     "text": [
      "AIC 770.787868566986\n"
     ]
    }
   ],
   "source": [
    "aic_m4 = ar_m4.aic\n",
    "print('AIC',aic_m4)"
   ]
  },
  {
   "cell_type": "code",
   "execution_count": 133,
   "id": "b1748f80",
   "metadata": {},
   "outputs": [],
   "source": [
    "mse_m4,rmse_m4,mape_m4  = test_metrics(test,fcast_m4)"
   ]
  },
  {
   "cell_type": "code",
   "execution_count": 135,
   "id": "c400f8cb",
   "metadata": {},
   "outputs": [
    {
     "data": {
      "text/html": [
       "<div>\n",
       "<style scoped>\n",
       "    .dataframe tbody tr th:only-of-type {\n",
       "        vertical-align: middle;\n",
       "    }\n",
       "\n",
       "    .dataframe tbody tr th {\n",
       "        vertical-align: top;\n",
       "    }\n",
       "\n",
       "    .dataframe thead th {\n",
       "        text-align: right;\n",
       "    }\n",
       "</style>\n",
       "<table border=\"1\" class=\"dataframe\">\n",
       "  <thead>\n",
       "    <tr style=\"text-align: right;\">\n",
       "      <th></th>\n",
       "      <th>Model</th>\n",
       "      <th>MSE</th>\n",
       "      <th>RMSE</th>\n",
       "      <th>MAPE</th>\n",
       "      <th>AIC</th>\n",
       "    </tr>\n",
       "  </thead>\n",
       "  <tbody>\n",
       "    <tr>\n",
       "      <th>3</th>\n",
       "      <td>ARIMA</td>\n",
       "      <td>5.738051e+06</td>\n",
       "      <td>2395.422915</td>\n",
       "      <td>0.184808</td>\n",
       "      <td>770.787869</td>\n",
       "    </tr>\n",
       "  </tbody>\n",
       "</table>\n",
       "</div>"
      ],
      "text/plain": [
       "   Model           MSE         RMSE      MAPE         AIC\n",
       "3  ARIMA  5.738051e+06  2395.422915  0.184808  770.787869"
      ]
     },
     "execution_count": 135,
     "metadata": {},
     "output_type": "execute_result"
    }
   ],
   "source": [
    "m4_res = pd.DataFrame({'Model':'ARIMA','MSE':mse_m4,'RMSE':rmse_m4,\n",
    "                       'MAPE':mape_m4,'AIC':aic_m4},index=[3])\n",
    "m4_res"
   ]
  },
  {
   "cell_type": "code",
   "execution_count": 136,
   "id": "ab609cbe",
   "metadata": {},
   "outputs": [
    {
     "data": {
      "text/html": [
       "<div>\n",
       "<style scoped>\n",
       "    .dataframe tbody tr th:only-of-type {\n",
       "        vertical-align: middle;\n",
       "    }\n",
       "\n",
       "    .dataframe tbody tr th {\n",
       "        vertical-align: top;\n",
       "    }\n",
       "\n",
       "    .dataframe thead th {\n",
       "        text-align: right;\n",
       "    }\n",
       "</style>\n",
       "<table border=\"1\" class=\"dataframe\">\n",
       "  <thead>\n",
       "    <tr style=\"text-align: right;\">\n",
       "      <th></th>\n",
       "      <th>Model</th>\n",
       "      <th>MSE</th>\n",
       "      <th>RMSE</th>\n",
       "      <th>MAPE</th>\n",
       "      <th>AIC</th>\n",
       "    </tr>\n",
       "  </thead>\n",
       "  <tbody>\n",
       "    <tr>\n",
       "      <th>0</th>\n",
       "      <td>AR</td>\n",
       "      <td>6.428266e+06</td>\n",
       "      <td>2535.402468</td>\n",
       "      <td>0.185987</td>\n",
       "      <td>782.100285</td>\n",
       "    </tr>\n",
       "    <tr>\n",
       "      <th>1</th>\n",
       "      <td>MA</td>\n",
       "      <td>6.400981e+06</td>\n",
       "      <td>2530.015946</td>\n",
       "      <td>0.183563</td>\n",
       "      <td>782.189454</td>\n",
       "    </tr>\n",
       "    <tr>\n",
       "      <th>2</th>\n",
       "      <td>ARMA</td>\n",
       "      <td>7.245208e+06</td>\n",
       "      <td>2691.692475</td>\n",
       "      <td>0.201451</td>\n",
       "      <td>781.283912</td>\n",
       "    </tr>\n",
       "    <tr>\n",
       "      <th>3</th>\n",
       "      <td>ARIMA</td>\n",
       "      <td>5.738051e+06</td>\n",
       "      <td>2395.422915</td>\n",
       "      <td>0.184808</td>\n",
       "      <td>770.787869</td>\n",
       "    </tr>\n",
       "  </tbody>\n",
       "</table>\n",
       "</div>"
      ],
      "text/plain": [
       "   Model           MSE         RMSE      MAPE         AIC\n",
       "0     AR  6.428266e+06  2535.402468  0.185987  782.100285\n",
       "1     MA  6.400981e+06  2530.015946  0.183563  782.189454\n",
       "2   ARMA  7.245208e+06  2691.692475  0.201451  781.283912\n",
       "3  ARIMA  5.738051e+06  2395.422915  0.184808  770.787869"
      ]
     },
     "execution_count": 136,
     "metadata": {},
     "output_type": "execute_result"
    }
   ],
   "source": [
    "res2 = pd.concat([res1,m4_res])\n",
    "res2"
   ]
  },
  {
   "cell_type": "code",
   "execution_count": null,
   "id": "8fbb32f8",
   "metadata": {},
   "outputs": [],
   "source": [
    "# SES\n",
    "# DES\n",
    "# TES\n",
    "# pmdarima.auto_arima\n",
    "# custom_function for p,d,q for ARIMA\n",
    "# custom_function for alpha,beta,gamma for Exponential Smoothing"
   ]
  }
 ],
 "metadata": {
  "kernelspec": {
   "display_name": "Python 3 (ipykernel)",
   "language": "python",
   "name": "python3"
  },
  "language_info": {
   "codemirror_mode": {
    "name": "ipython",
    "version": 3
   },
   "file_extension": ".py",
   "mimetype": "text/x-python",
   "name": "python",
   "nbconvert_exporter": "python",
   "pygments_lexer": "ipython3",
   "version": "3.9.12"
  }
 },
 "nbformat": 4,
 "nbformat_minor": 5
}
